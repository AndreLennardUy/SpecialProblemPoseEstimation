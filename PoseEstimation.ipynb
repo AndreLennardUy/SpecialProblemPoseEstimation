{
 "cells": [
  {
   "cell_type": "code",
   "execution_count": 3,
   "metadata": {},
   "outputs": [],
   "source": [
    "import tensorflow as tf\n",
    "import numpy as np\n",
    "from matplotlib import pyplot as plt\n",
    "import cv2\n",
    "import math"
   ]
  },
  {
   "cell_type": "code",
   "execution_count": 5,
   "metadata": {},
   "outputs": [],
   "source": [
    "interpreter = tf.lite.Interpreter(model_path='MovenetLightning.tflite')\n",
    "interpreter.allocate_tensors()"
   ]
  },
  {
   "cell_type": "code",
   "execution_count": 6,
   "metadata": {},
   "outputs": [],
   "source": [
    "def draw_keypoints(frame, keypoints, confidence_threshold):\n",
    "    y, x, c = frame.shape\n",
    "    shaped = np.squeeze(np.multiply(keypoints, [y,x,1]))\n",
    "\n",
    "    for kp in shaped:\n",
    "        ky, kx, kp_conf = kp\n",
    "        if kp_conf > confidence_threshold:\n",
    "            cv2.circle(frame, (int(kx), int(ky)), 4, (0,255,0), -1)"
   ]
  },
  {
   "cell_type": "code",
   "execution_count": 7,
   "metadata": {},
   "outputs": [],
   "source": [
    "EDGES = {\n",
    "    (0, 1): 'm',  # Connects keypoints 0 (left shoulder) and 1 (right shoulder)\n",
    "    (0, 2): 'c',  # Connects keypoints 0 (left shoulder) and 2 (left hip)\n",
    "    (1, 3): 'm',  # Connects keypoints 1 (right shoulder) and 3 (right hip)\n",
    "    (2, 4): 'c',  # Connects keypoints 2 (left hip) and 4 (left knee)\n",
    "    (0, 5): 'm',  # Connects keypoints 0 (left shoulder) and 5 (left ankle)\n",
    "    (0, 6): 'c',  # Connects keypoints 0 (left shoulder) and 6 (right hip)\n",
    "    (5, 7): 'm',  # Connects keypoints 5 (left ankle) and 7 (left foot)\n",
    "    (7, 9): 'm',  # Connects keypoints 7 (left foot) and 9 (left toe)\n",
    "    (6, 8): 'c',  # Connects keypoints 6 (right hip) and 8 (right knee)\n",
    "    (8, 10): 'c', # Connects keypoints 8 (right knee) and 10 (right ankle)\n",
    "    (5, 6): 'y',  # Connects keypoints 5 (left ankle) and 6 (right hip)\n",
    "    (5, 11): 'm', # Connects keypoints 5 (left ankle) and 11 (nose)\n",
    "    (6, 12): 'c', # Connects keypoints 6 (right hip) and 12 (nose)\n",
    "    (11, 12): 'y',# Connects keypoints 11 (nose) and 12 (nose)\n",
    "    (11, 13): 'm',# Connects keypoints 11 (nose) and 13 (left eye)\n",
    "    (13, 15): 'm',# Connects keypoints 13 (left eye) and 15 (left ear)\n",
    "    (12, 14): 'c',# Connects keypoints 12 (nose) and 14 (right eye)\n",
    "    (14, 16): 'c' # Connects keypoints 14 (right eye) and 16 (right ear)\n",
    "}\n",
    "\n",
    "HIGH_PLANK_EDGES = {\n",
    "    (5, 11): 'm',   # Left shoulder to Left hip\n",
    "    (11, 13): 'm',  # Left hip to Left knee\n",
    "    (13, 15): 'm',  # Left knee to Left ankle\n",
    "    (6, 12): 'c',   # Right shoulder to Right hip\n",
    "    (12, 14): 'c',  # Right hip to Right knee\n",
    "    (14, 16): 'c',  # Right knee to Right ankle\n",
    "    (5, 7): 'm',    # Left shoulder to Left elbow\n",
    "    (7, 9): 'm',    # Left elbow to Left wrist\n",
    "    (6, 8): 'c',    # Right shoulder to Right elbow\n",
    "    (8, 10): 'c'    # Right elbow to Right wrist\n",
    "}\n",
    "\n"
   ]
  },
  {
   "cell_type": "code",
   "execution_count": 8,
   "metadata": {},
   "outputs": [],
   "source": [
    "def draw_connections(frame, keypoints, edges, confidence_threshold):\n",
    "    y, x, c = frame.shape\n",
    "    shaped = np.squeeze(np.multiply(keypoints, [y,x,1]))\n",
    "\n",
    "    for edge, color in HIGH_PLANK_EDGES.items():\n",
    "        p1, p2 = edge\n",
    "        y1, x1, c1 = shaped[p1]\n",
    "        y2, x2, c2 = shaped[p2]\n",
    "\n",
    "        if (c1 > confidence_threshold) & (c2 > confidence_threshold):\n",
    "            cv2.line(frame, (int(x1), int(y1)), (int(x2), int(y2)), (0,0,255), 2)"
   ]
  },
  {
   "cell_type": "code",
   "execution_count": 9,
   "metadata": {},
   "outputs": [],
   "source": [
    "cap = cv2.VideoCapture(0)\n",
    "while cap.isOpened():\n",
    "    ret, frame = cap.read()\n",
    "\n",
    "    img = frame.copy()\n",
    "    img = tf.image.resize_with_pad(np.expand_dims(img, axis=0), 192,192)\n",
    "    input_image = tf.cast(img, dtype=tf.float32)\n",
    "\n",
    "    input_details = interpreter.get_input_details()\n",
    "    output_details = interpreter.get_output_details()\n",
    "\n",
    "    interpreter.set_tensor(input_details[0]['index'], np.array(input_image))\n",
    "    interpreter.invoke()\n",
    "    keypoints_with_scores = interpreter.get_tensor(output_details[0]['index'])\n",
    "    draw_connections(frame, keypoints_with_scores, HIGH_PLANK_EDGES, 0.4)  # Using HIGH_PLANK_EDGES\n",
    "    draw_keypoints(frame, keypoints_with_scores, 0.4)\n",
    "\n",
    "    cv2.imshow('MoveNet Lightning', frame)\n",
    "\n",
    "    key = cv2.waitKey(1) & 0xFF\n",
    "    if key == ord('q'):  # Check if 'q' key is pressed\n",
    "        break\n",
    "\n",
    "cap.release()\n",
    "cv2.destroyAllWindows()\n"
   ]
  }
 ],
 "metadata": {
  "kernelspec": {
   "display_name": "Python 3",
   "language": "python",
   "name": "python3"
  },
  "language_info": {
   "codemirror_mode": {
    "name": "ipython",
    "version": 3
   },
   "file_extension": ".py",
   "mimetype": "text/x-python",
   "name": "python",
   "nbconvert_exporter": "python",
   "pygments_lexer": "ipython3",
   "version": "3.11.5"
  }
 },
 "nbformat": 4,
 "nbformat_minor": 2
}
