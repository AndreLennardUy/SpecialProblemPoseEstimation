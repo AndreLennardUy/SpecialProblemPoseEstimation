{
 "cells": [
  {
   "cell_type": "code",
   "execution_count": 38,
   "metadata": {},
   "outputs": [],
   "source": [
    "import tensorflow as tf\n",
    "import numpy as np\n",
    "from matplotlib import pyplot as plt\n",
    "import cv2\n",
    "import math\n",
    "import time"
   ]
  },
  {
   "cell_type": "code",
   "execution_count": 39,
   "metadata": {},
   "outputs": [],
   "source": [
    "interpreter = tf.lite.Interpreter(model_path='MovenetLightning.tflite')\n",
    "interpreter.allocate_tensors()"
   ]
  },
  {
   "cell_type": "markdown",
   "metadata": {},
   "source": [
    "# Drawing of Keypoints and Connecting of Joints"
   ]
  },
  {
   "cell_type": "code",
   "execution_count": 40,
   "metadata": {},
   "outputs": [],
   "source": [
    "def draw_keypoints(frame, keypoints, confidence_threshold):\n",
    "    y, x, c = frame.shape\n",
    "    shaped = np.squeeze(np.multiply(keypoints, [y,x,1]))\n",
    "\n",
    "    for kp in shaped:\n",
    "        ky, kx, kp_conf = kp\n",
    "        if kp_conf > confidence_threshold:\n",
    "            cv2.circle(frame, (int(kx), int(ky)), 4, (0,255,0), -1)"
   ]
  },
  {
   "cell_type": "code",
   "execution_count": 41,
   "metadata": {},
   "outputs": [],
   "source": [
    "EDGES = {\n",
    "    (0, 1): 'm',  # Connects keypoints 0 (left shoulder) and 1 (right shoulder)\n",
    "    (0, 2): 'c',  # Connects keypoints 0 (left shoulder) and 2 (left hip)\n",
    "    (1, 3): 'm',  # Connects keypoints 1 (right shoulder) and 3 (right hip)\n",
    "    (2, 4): 'c',  # Connects keypoints 2 (left hip) and 4 (left knee)\n",
    "    (0, 5): 'm',  # Connects keypoints 0 (left shoulder) and 5 (left ankle)\n",
    "    (0, 6): 'c',  # Connects keypoints 0 (left shoulder) and 6 (right hip)\n",
    "    (5, 7): 'm',  # Connects keypoints 5 (left ankle) and 7 (left foot)\n",
    "    (7, 9): 'm',  # Connects keypoints 7 (left foot) and 9 (left toe)\n",
    "    (6, 8): 'c',  # Connects keypoints 6 (right hip) and 8 (right knee)\n",
    "    (8, 10): 'c', # Connects keypoints 8 (right knee) and 10 (right ankle)\n",
    "    (5, 6): 'y',  # Connects keypoints 5 (left ankle) and 6 (right hip)\n",
    "    (5, 11): 'm', # Connects keypoints 5 (left ankle) and 11 (nose)\n",
    "    (6, 12): 'c', # Connects keypoints 6 (right hip) and 12 (nose)\n",
    "    (11, 12): 'y',# Connects keypoints 11 (nose) and 12 (nose)\n",
    "    (11, 13): 'm',# Connects keypoints 11 (nose) and 13 (left eye)\n",
    "    (13, 15): 'm',# Connects keypoints 13 (left eye) and 15 (left ear)\n",
    "    (12, 14): 'c',# Connects keypoints 12 (nose) and 14 (right eye)\n",
    "    (14, 16): 'c' # Connects keypoints 14 (right eye) and 16 (right ear)\n",
    "}\n",
    "\n",
    "HIGH_PLANK_EDGES = {\n",
    "    (5, 11): 'm',   # Left shoulder to Left hip\n",
    "    (11, 13): 'm',  # Left hip to Left knee\n",
    "    (13, 15): 'm',  # Left knee to Left ankle\n",
    "    (6, 12): 'c',   # Right shoulder to Right hip\n",
    "    (12, 14): 'c',  # Right hip to Right knee\n",
    "    (14, 16): 'c',  # Right knee to Right ankle\n",
    "    (5, 7): 'm',    # Left shoulder to Left elbow\n",
    "    (7, 9): 'm',    # Left elbow to Left wrist\n",
    "    (6, 8): 'c',    # Right shoulder to Right elbow\n",
    "    (8, 10): 'c'    # Right elbow to Right wrist\n",
    "}\n",
    "\n"
   ]
  },
  {
   "cell_type": "code",
   "execution_count": 42,
   "metadata": {},
   "outputs": [],
   "source": [
    "def draw_connections(frame, keypoints, edges, confidence_threshold):\n",
    "    y, x, c = frame.shape\n",
    "    shaped = np.squeeze(np.multiply(keypoints, [y,x,1]))\n",
    "\n",
    "    for edge, color in HIGH_PLANK_EDGES.items():\n",
    "        p1, p2 = edge\n",
    "        y1, x1, c1 = shaped[p1]\n",
    "        y2, x2, c2 = shaped[p2]\n",
    "\n",
    "        if (c1 > confidence_threshold) & (c2 > confidence_threshold):\n",
    "            cv2.line(frame, (int(x1), int(y1)), (int(x2), int(y2)), (0,0,255), 2)"
   ]
  },
  {
   "cell_type": "code",
   "execution_count": 43,
   "metadata": {},
   "outputs": [],
   "source": [
    "def all_keypoints_detected(keypoints, edges, confidence_threshold):\n",
    "    num_keypoints = keypoints.shape[2]\n",
    "    for edge, _ in edges.items():\n",
    "        p1, p2 = edge\n",
    "        c1 = keypoints[0][0][p1][2]  # Adjusted indexing to handle the extra dimension\n",
    "        c2 = keypoints[0][0][p2][2]  # Adjusted indexing to handle the extra dimension\n",
    "        if c1 < confidence_threshold or c2 < confidence_threshold:\n",
    "            return False\n",
    "    return True\n"
   ]
  },
  {
   "cell_type": "markdown",
   "metadata": {},
   "source": [
    "# Calculate Wall Sit"
   ]
  },
  {
   "cell_type": "code",
   "execution_count": 13,
   "metadata": {},
   "outputs": [],
   "source": []
  },
  {
   "cell_type": "markdown",
   "metadata": {},
   "source": [
    "# Calculate High Side Plank (LEFT)"
   ]
  },
  {
   "cell_type": "code",
   "execution_count": 44,
   "metadata": {},
   "outputs": [],
   "source": [
    "# Function to calculate the angle between three points\n",
    "def calculate_angle(p1, p2, p3):\n",
    "    angle_radians = math.atan2(p3[1] - p2[1], p3[0] - p2[0]) - math.atan2(p1[1] - p2[1], p1[0] - p2[0])\n",
    "    angle_degrees = math.degrees(angle_radians)\n",
    "    return abs(angle_degrees)\n",
    "\n",
    "# Function to check if the angle between three points is within a tolerance\n",
    "def angle_within_tolerance(p1, p2, p3, target_angle, tolerance):\n",
    "    angle = calculate_angle(p1, p2, p3)\n",
    "    return abs(angle - target_angle) < tolerance\n",
    "\n",
    "def is_high_side_plank_left_correct(keypoints_with_scores, confidence_threshold):\n",
    "    # Reshape keypoints to remove unnecessary dimensions\n",
    "    keypoints = keypoints_with_scores[0, 0, :, :]\n",
    "\n",
    "    # Check if all keypoints are detected with enough confidence\n",
    "    if all(keypoints[:, 2] > confidence_threshold):\n",
    "        # Define the keypoints for the left side\n",
    "        left_wrist = keypoints[9][:2]\n",
    "        left_elbow = keypoints[7][:2]\n",
    "        left_shoulder = keypoints[5][:2]\n",
    "        left_hip = keypoints[11][:2]\n",
    "        left_knee = keypoints[13][:2]\n",
    "        \n",
    "        # Calculate angles\n",
    "        arm_angle = calculate_angle(left_wrist, left_elbow, left_shoulder)\n",
    "        body_angle = calculate_angle(left_shoulder, left_hip, left_knee)\n",
    "        \n",
    "        # Check if the arm is nearly vertical\n",
    "        is_arm_straight = 60 <= arm_angle <= 115  # Tolerating slight deviation\n",
    "        # Check if the body and leg form a straight line like a proper side plank\n",
    "        is_body_aligned = 130 <= body_angle <= 210  # Tolerating slight deviation\n",
    "        \n",
    "        return is_arm_straight and is_body_aligned\n",
    "    else:\n",
    "        # If keypoints are not detected with high confidence, we cannot assert the pose is correct\n",
    "        return False\n"
   ]
  },
  {
   "cell_type": "markdown",
   "metadata": {},
   "source": [
    "# Calculate High Side Plank (Right)"
   ]
  },
  {
   "cell_type": "code",
   "execution_count": 45,
   "metadata": {},
   "outputs": [],
   "source": [
    "def is_high_side_plank_right_correct(keypoints_with_scores, confidence_threshold):\n",
    "    # Reshape keypoints to remove unnecessary dimensions\n",
    "    keypoints = keypoints_with_scores[0, 0, :, :]\n",
    "\n",
    "    # Check if all keypoints are detected with enough confidence\n",
    "    if all(keypoints[:, 2] > confidence_threshold):\n",
    "        # Define the keypoints for the right side\n",
    "        right_wrist = keypoints[10][:2]\n",
    "        right_elbow = keypoints[8][:2]\n",
    "        right_shoulder = keypoints[6][:2]\n",
    "        right_hip = keypoints[12][:2]\n",
    "        right_knee = keypoints[14][:2]\n",
    "        \n",
    "        # Calculate angles\n",
    "        arm_angle = calculate_angle(right_wrist, right_elbow, right_shoulder)\n",
    "        body_angle = calculate_angle(right_shoulder, right_hip, right_knee)\n",
    "        \n",
    "        # Check if the arm is nearly vertical\n",
    "        is_arm_straight = 60 <= arm_angle <= 115  # Tolerating slight deviation\n",
    "        # Check if the body and leg form a straight line like a proper side plank\n",
    "        is_body_aligned = 130 <= body_angle <= 210  # Tolerating slight deviation\n",
    "        \n",
    "        return is_arm_straight and is_body_aligned\n",
    "    else:\n",
    "        # If keypoints are not detected with high confidence, we cannot assert the pose is correct\n",
    "        return False\n"
   ]
  },
  {
   "cell_type": "markdown",
   "metadata": {},
   "source": [
    "# Calculate High Plank Angle"
   ]
  },
  {
   "cell_type": "code",
   "execution_count": 46,
   "metadata": {},
   "outputs": [],
   "source": [
    "def calculate_high_plank_angles(keypoints):\n",
    "    # Define the keypoints for both arms\n",
    "    left_wrist = keypoints[9][:2]\n",
    "    left_elbow = keypoints[7][:2]\n",
    "    left_shoulder = keypoints[5][:2]\n",
    "\n",
    "    right_wrist = keypoints[10][:2]\n",
    "    right_elbow = keypoints[8][:2]\n",
    "    right_shoulder = keypoints[6][:2]\n",
    "\n",
    "    # Define the keypoints for the body\n",
    "    left_hip = keypoints[11][:2]\n",
    "    left_knee = keypoints[13][:2]\n",
    "    \n",
    "    right_hip = keypoints[12][:2]\n",
    "    right_knee = keypoints[14][:2]\n",
    "\n",
    "    # Calculate arm angles\n",
    "    left_arm_angle = calculate_angle(left_wrist, left_elbow, left_shoulder)\n",
    "    right_arm_angle = calculate_angle(right_wrist, right_elbow, right_shoulder)\n",
    "    \n",
    "    # Calculate body angles\n",
    "    left_body_angle = calculate_angle(left_shoulder, left_hip, left_knee)\n",
    "    right_body_angle = calculate_angle(right_shoulder, right_hip, right_knee)\n",
    "\n",
    "    return left_arm_angle, right_arm_angle, left_body_angle, right_body_angle\n",
    "\n",
    "def is_high_plank_correct(keypoints_with_scores, confidence_threshold):\n",
    "    keypoints = keypoints_with_scores[0, 0, :, :]\n",
    "    if all(keypoints[:, 2] > confidence_threshold):\n",
    "        left_arm_angle, right_arm_angle, left_body_angle, right_body_angle = calculate_high_plank_angles(keypoints)\n",
    "\n",
    "        # Check if both arms are nearly straight\n",
    "        is_arms_straight = (160 <= left_arm_angle <= 180 and 160 <= right_arm_angle <= 180)\n",
    "        # Check if the body is correctly aligned with a slight slant\n",
    "        is_body_aligned = (130 <= left_body_angle <= 195 and 130 <= right_body_angle <= 195)\n",
    "        \n",
    "        return is_arms_straight and is_body_aligned\n",
    "    else:\n",
    "        return False\n"
   ]
  },
  {
   "cell_type": "markdown",
   "metadata": {},
   "source": [
    "# Scoring Algorithm (NOT YET DONE)"
   ]
  },
  {
   "cell_type": "code",
   "execution_count": 8,
   "metadata": {},
   "outputs": [],
   "source": [
    "# Function to calculate stability and alignment score\n",
    "def calculate_stability_alignment(keypoints_detected):\n",
    "    # Placeholder for stability and alignment score\n",
    "    stability_alignment_score = 0\n",
    "    \n",
    "    # Check alignment every 0.2 seconds\n",
    "    interval = 0.2  # Interval between alignment checks in seconds\n",
    "    duration = 20  # Total duration of the exercise in seconds\n",
    "    start_time = time.time()\n",
    "    \n",
    "    while time.time() - start_time <= duration:\n",
    "        alignment = wrists_elbows_shoulders_aligned(keypoints_detected, 0.4) and \\\n",
    "                    shoulders_hips_knees_ankles_diagonal(keypoints_detected, 0.4)\n",
    "        if alignment:\n",
    "            stability_alignment_score += 1  # Increment score if alignment is detected\n",
    "        \n",
    "        # Wait for the next alignment check\n",
    "        time.sleep(interval)\n",
    "    \n",
    "    # Normalize the score based on the duration\n",
    "    stability_alignment_score /= (duration / interval)\n",
    "    \n",
    "    return stability_alignment_score\n",
    "\n",
    "# Function to calculate consistency score\n",
    "def calculate_consistency(keypoints_detected):\n",
    "    # Placeholder for consistency score\n",
    "    consistency_score = 0\n",
    "    \n",
    "    # Placeholder for storing alignment results\n",
    "    alignment_results = []\n",
    "    \n",
    "    # Check alignment every 0.2 seconds and store the results\n",
    "    interval = 0.2  # Interval between alignment checks in seconds\n",
    "    duration = 20  # Total duration of the exercise in seconds\n",
    "    start_time = time.time()\n",
    "    \n",
    "    while time.time() - start_time <= duration:\n",
    "        alignment = wrists_elbows_shoulders_aligned(keypoints_detected, 0.4) and \\\n",
    "                    shoulders_hips_knees_ankles_diagonal(keypoints_detected, 0.4)\n",
    "        alignment_results.append(1 if alignment else 0)\n",
    "        \n",
    "        # Wait for the next alignment check\n",
    "        time.sleep(interval)\n",
    "    \n",
    "    # Calculate consistency score based on alignment results\n",
    "    consistency_score = sum(alignment_results) / len(alignment_results)\n",
    "    \n",
    "    return consistency_score"
   ]
  },
  {
   "cell_type": "markdown",
   "metadata": {},
   "source": [
    "# Live Video Camera Capture for Testing"
   ]
  },
  {
   "cell_type": "code",
   "execution_count": 47,
   "metadata": {},
   "outputs": [],
   "source": [
    "cap = cv2.VideoCapture(0)\n",
    "\n",
    "# Initialize variables for stability_alignment_score and consistency_score\n",
    "stability_alignment_score = 0\n",
    "consistency_score = 0\n",
    "\n",
    "while cap.isOpened():\n",
    "    ret, frame = cap.read()\n",
    "\n",
    "    img = frame.copy()\n",
    "    img = tf.image.resize_with_pad(np.expand_dims(img, axis=0), 192, 192)\n",
    "    input_image = tf.cast(img, dtype=tf.float32)\n",
    "\n",
    "    input_details = interpreter.get_input_details()\n",
    "    output_details = interpreter.get_output_details()\n",
    "\n",
    "    interpreter.set_tensor(input_details[0]['index'], np.array(input_image))\n",
    "    interpreter.invoke()\n",
    "    keypoints_with_scores = interpreter.get_tensor(output_details[0]['index'])\n",
    "\n",
    "    # # Add this right after you get 'keypoints_with_scores' from the interpreter\n",
    "    # print(\"Shape of keypoints_with_scores:\", keypoints_with_scores.shape)\n",
    "    # print(\"Example keypoints_with_scores data:\", keypoints_with_scores[0, :5, :])  # print the first 5 keypoints of the first detection\n",
    "\n",
    "\n",
    "    draw_connections(frame, keypoints_with_scores, HIGH_PLANK_EDGES, 0.4)  # Using HIGH_PLANK_EDGES\n",
    "    draw_keypoints(frame, keypoints_with_scores, 0.4)\n",
    "\n",
    "    # Check if all keypoints for high plank are detected\n",
    "    # if all_keypoints_detected(keypoints_with_scores, HIGH_PLANK_EDGES, 0.4):\n",
    "    #     if wrists_elbows_shoulders_aligned(keypoints_with_scores, 0.6) and shoulders_hips_knees_ankles_diagonal(keypoints_with_scores, 0.6):\n",
    "    #         cv2.putText(frame, \"Perfect High Plank\", (50, 50), cv2.FONT_HERSHEY_SIMPLEX, 1, (0, 255, 0), 2, cv2.LINE_AA)\n",
    "\n",
    "    # Here we add the check for perfect high side plank on the left side\n",
    "    if is_high_side_plank_left_correct(keypoints_with_scores, 0.1) or is_high_side_plank_right_correct(keypoints_with_scores, 0.1):\n",
    "        cv2.putText(frame, \"Perfect Side Plank\", (50, 50), cv2.FONT_HERSHEY_SIMPLEX, 1, (0, 255, 0), 2, cv2.LINE_AA)\n",
    "    elif is_high_plank_correct(keypoints_with_scores, 0.3):\n",
    "        cv2.putText(frame, \"Perfect High Plank\", (50, 50), cv2.FONT_HERSHEY_SIMPLEX, 1, (255, 0, 0), 2, cv2.LINE_AA)\n",
    "\n",
    "    cv2.imshow('MoveNet Lightning', frame)\n",
    "\n",
    "    key = cv2.waitKey(1) & 0xFF\n",
    "    if key == ord('q'):  # Check if 'q' key is pressed\n",
    "        break\n",
    "\n",
    "cap.release()\n",
    "cv2.destroyAllWindows()"
   ]
  }
 ],
 "metadata": {
  "kernelspec": {
   "display_name": "Python 3",
   "language": "python",
   "name": "python3"
  },
  "language_info": {
   "codemirror_mode": {
    "name": "ipython",
    "version": 3
   },
   "file_extension": ".py",
   "mimetype": "text/x-python",
   "name": "python",
   "nbconvert_exporter": "python",
   "pygments_lexer": "ipython3",
   "version": "3.11.3"
  }
 },
 "nbformat": 4,
 "nbformat_minor": 2
}
